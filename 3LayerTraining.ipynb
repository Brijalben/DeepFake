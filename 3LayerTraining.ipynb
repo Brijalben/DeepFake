{
 "cells": [
  {
   "cell_type": "code",
   "execution_count": 3,
   "id": "f244e963",
   "metadata": {},
   "outputs": [],
   "source": [
    "import torch\n",
    "import torch.nn as nn\n",
    "import torch.optim as optim\n",
    "from torch.utils.data import DataLoader, random_split\n",
    "from torchvision.transforms import ToTensor"
   ]
  },
  {
   "cell_type": "code",
   "execution_count": 4,
   "id": "c2684c39",
   "metadata": {},
   "outputs": [],
   "source": [
    "import os\n",
    "import pandas as pd"
   ]
  },
  {
   "cell_type": "code",
   "execution_count": 5,
   "id": "0d5a85ce",
   "metadata": {},
   "outputs": [],
   "source": [
    "import torchvision.models as models"
   ]
  },
  {
   "cell_type": "code",
   "execution_count": 6,
   "id": "02f5bb2a",
   "metadata": {},
   "outputs": [],
   "source": [
    "import torchvision.transforms as transforms\n",
    "from torch.utils.data import DataLoader, Dataset\n",
    "from PIL import Image"
   ]
  },
  {
   "cell_type": "code",
   "execution_count": 7,
   "id": "76295154",
   "metadata": {},
   "outputs": [],
   "source": [
    "import matplotlib.pyplot as plt\n",
    "from sklearn.metrics import roc_curve, auc"
   ]
  },
  {
   "cell_type": "code",
   "execution_count": 8,
   "id": "c516b469",
   "metadata": {},
   "outputs": [],
   "source": [
    "from sklearn.metrics import accuracy_score, precision_score, recall_score, f1_score, roc_auc_score"
   ]
  },
  {
   "cell_type": "code",
   "execution_count": 9,
   "id": "9c36330d",
   "metadata": {},
   "outputs": [],
   "source": [
    "from sklearn.model_selection import train_test_split"
   ]
  },
  {
   "cell_type": "code",
   "execution_count": 23,
   "id": "7a32d8d7",
   "metadata": {},
   "outputs": [],
   "source": [
    "# Define the folder containing your images\n",
    "fakeThisImage_folder = r'E:\\DeepFake\\DeepFake\\Dataset\\Fake-This'\n",
    "fakeGenImage_folder = r'E:\\DeepFake\\DeepFake\\Dataset\\Fake-Gen'\n",
    "fakeImage_folder = r'E:\\DeepFake\\DeepFake\\Dataset\\Fake'\n",
    "realImage_folder = r'E:\\DeepFake\\DeepFake\\Dataset\\Real'\n",
    "\n",
    "# List all image files in the folder\n",
    "fakeImage_files = [os.path.join(fakeImage_folder, file) for file in os.listdir(fakeImage_folder) if file.lower().endswith(('.png', '.jpg', '.jpeg'))]\n",
    "fakeThisImage_files = [os.path.join(fakeThisImage_folder, file) for file in os.listdir(fakeThisImage_folder) if file.lower().endswith(('.png', '.jpg', '.jpeg'))]\n",
    "fakeGenImage_files = [os.path.join(fakeGenImage_folder, file) for file in os.listdir(fakeGenImage_folder) if file.lower().endswith(('.png', '.jpg', '.jpeg'))]\n",
    "realImage_files = [os.path.join(realImage_folder, file) for file in os.listdir(realImage_folder) if file.lower().endswith(('.png', '.jpg', '.jpeg'))]\n",
    "\n",
    "fake_df = pd.DataFrame(columns=['Image_Path', 'Fake'])\n",
    "fake_df['Image_Path'] = fakeImage_files\n",
    "fake_df['Fake'] = 1\n",
    "\n",
    "fake_this_df = pd.DataFrame(columns=['Image_Path', 'Fake'])\n",
    "fake_this_df['Image_Path'] = fakeThisImage_files\n",
    "fake_this_df['Fake'] = 1\n",
    "\n",
    "fake_Gen_df = pd.DataFrame(columns=['Image_Path', 'Fake'])\n",
    "fake_Gen_df['Image_Path'] = fakeGenImage_files\n",
    "fake_Gen_df['Fake'] = 1\n",
    "\n",
    "real_df = pd.DataFrame(columns=['Image_Path', 'Fake'])\n",
    "real_df['Image_Path'] = realImage_files\n",
    "real_df['Fake'] = 0\n",
    "\n",
    "result_df = pd.concat([fake_df[70000:71500],fake_this_df,fake_Gen_df, real_df[:3000]],ignore_index=True)"
   ]
  },
  {
   "cell_type": "code",
   "execution_count": 25,
   "id": "6e986500",
   "metadata": {},
   "outputs": [
    {
     "name": "stdout",
     "output_type": "stream",
     "text": [
      "<class 'pandas.core.frame.DataFrame'>\n",
      "RangeIndex: 7805 entries, 0 to 7804\n",
      "Data columns (total 2 columns):\n",
      " #   Column      Non-Null Count  Dtype \n",
      "---  ------      --------------  ----- \n",
      " 0   Image_Path  7805 non-null   object\n",
      " 1   Fake        7805 non-null   int64 \n",
      "dtypes: int64(1), object(1)\n",
      "memory usage: 122.1+ KB\n"
     ]
    }
   ],
   "source": [
    "result_df.info()"
   ]
  },
  {
   "cell_type": "code",
   "execution_count": 26,
   "id": "1b0d18b4",
   "metadata": {},
   "outputs": [],
   "source": [
    "# Split the data into a training set and a test set (50% each) with class balance\n",
    "X_train, X_test, y_train, y_test = train_test_split(result_df['Image_Path'], result_df['Fake'], test_size=0.1, stratify= result_df['Fake'], random_state=35)"
   ]
  },
  {
   "cell_type": "code",
   "execution_count": 27,
   "id": "e8c7d6d2",
   "metadata": {},
   "outputs": [],
   "source": [
    "class ImageModel(nn.Module):\n",
    "    def __init__(self, num_classes):\n",
    "        super(ImageModel, self).__init__()\n",
    "        model = models.resnext50_32x4d(weights=models.ResNeXt50_32X4D_Weights.DEFAULT)\n",
    "        \n",
    "        # Freeze all layers initially\n",
    "        for param in model.parameters():\n",
    "            param.requires_grad = False\n",
    "        \n",
    "        # Unfreeze the last three layers\n",
    "        for layer in list(model.children())[-3:]:\n",
    "            for param in layer.parameters():\n",
    "                param.requires_grad = True\n",
    "\n",
    "        self.model = nn.Sequential(*list(model.children())[:-2])\n",
    "        self.avgpool = nn.AdaptiveAvgPool2d(1)\n",
    "        self.relu = nn.LeakyReLU()\n",
    "        self.dp = nn.Dropout(0.3)\n",
    "        self.linear1 = nn.Linear(2048, num_classes)\n",
    "\n",
    "    def forward(self, x):\n",
    "        batch_size, c, h, w = x.shape\n",
    "        x = x.view(batch_size, c, h, w)\n",
    "        fmap = self.model(x)\n",
    "        x = self.avgpool(fmap)\n",
    "        x = x.view(batch_size, 2048)\n",
    "        x = self.relu(x)\n",
    "        x = self.dp(x)\n",
    "        x = self.linear1(x)\n",
    "        return fmap, x"
   ]
  },
  {
   "cell_type": "code",
   "execution_count": 28,
   "id": "1fdeb0fe",
   "metadata": {},
   "outputs": [],
   "source": [
    "device = torch.device('cuda' if torch.cuda.is_available() else 'cpu')\n",
    "batch_size = 16"
   ]
  },
  {
   "cell_type": "code",
   "execution_count": 29,
   "id": "7fab8e6e",
   "metadata": {},
   "outputs": [],
   "source": [
    "class FaceDataset(Dataset):\n",
    "    def __init__(self, images, labels, transform=None):\n",
    "        self.images = images\n",
    "        self.labels = labels\n",
    "        self.transform = transform\n",
    "\n",
    "    def __len__(self):\n",
    "        return len(self.images)\n",
    "\n",
    "    def __getitem__(self, idx):\n",
    "        image = Image.open(self.images[idx])\n",
    "        label = self.labels[idx]\n",
    "        if self.transform:\n",
    "            image = self.transform(image)\n",
    "        return image, label"
   ]
  },
  {
   "cell_type": "code",
   "execution_count": 30,
   "id": "c37db2a4",
   "metadata": {},
   "outputs": [],
   "source": [
    "transform = transforms.Compose([ transforms.Resize((224, 224)),\n",
    "                                transforms.ToTensor(),\n",
    "                                transforms.Normalize(mean=[0.485, 0.456, 0.406], std=[0.229, 0.224, 0.225])])"
   ]
  },
  {
   "cell_type": "code",
   "execution_count": 31,
   "id": "ef86f58e",
   "metadata": {},
   "outputs": [],
   "source": [
    "train_dataset = FaceDataset(X_train.values, y_train.values, transform)\n",
    "train_loader = DataLoader(train_dataset, batch_size=batch_size, shuffle=True)\n",
    "test_dataset = FaceDataset(X_test.values, y_test.values, transform)\n",
    "test_loader = DataLoader(test_dataset, batch_size=batch_size, shuffle=True)"
   ]
  },
  {
   "cell_type": "code",
   "execution_count": 44,
   "id": "d0b50c04",
   "metadata": {},
   "outputs": [],
   "source": [
    "model = ImageModel(num_classes=2)\n",
    "model.load_state_dict(torch.load(r'E:\\DeepFake\\DeepFake\\model\\lstm_model7_0.02736789979094257_0.9897857142857143.pth'))\n",
    "model = model.to(device)"
   ]
  },
  {
   "cell_type": "code",
   "execution_count": 45,
   "id": "1a017d99",
   "metadata": {},
   "outputs": [],
   "source": [
    "best_val_acc = 0.0\n",
    "patience = 5  # Number of epochs to wait for improvement\n",
    "early_stopping_counter = 0\n",
    "num_epochs = 50"
   ]
  },
  {
   "cell_type": "code",
   "execution_count": 46,
   "id": "efe68fd5",
   "metadata": {},
   "outputs": [],
   "source": [
    "# Step 3: Define Loss Function and Optimizer\n",
    "criterion = nn.CrossEntropyLoss()\n",
    "optimizer = optim.Adam(model.parameters(), lr=0.001)"
   ]
  },
  {
   "cell_type": "code",
   "execution_count": 51,
   "id": "bd6e4bf3",
   "metadata": {},
   "outputs": [
    {
     "name": "stdout",
     "output_type": "stream",
     "text": [
      "Epoch [1/50], Loss: 0.0793, Accuracy: 0.9728\n",
      "Validation Loss: 0.1096, Validation Accuracy: 0.9526\n",
      "Saving model: E:\\DeepFake\\DeepFake\\model\\lstm_model_0_0.07931164814712711_0.9526248399487837.pth\n",
      "Epoch [2/50], Loss: 0.0555, Accuracy: 0.9781\n",
      "Validation Loss: 0.1298, Validation Accuracy: 0.9539\n",
      "Saving model: E:\\DeepFake\\DeepFake\\model\\lstm_model_1_0.05548141998034538_0.9539052496798975.pth\n",
      "Epoch [3/50], Loss: 0.0348, Accuracy: 0.9870\n",
      "Validation Loss: 0.1516, Validation Accuracy: 0.9488\n",
      "Epoch [4/50], Loss: 0.0325, Accuracy: 0.9900\n",
      "Validation Loss: 0.1094, Validation Accuracy: 0.9616\n",
      "Saving model: E:\\DeepFake\\DeepFake\\model\\lstm_model_3_0.03247595861232106_0.9615877080665813.pth\n",
      "Epoch [5/50], Loss: 0.0278, Accuracy: 0.9899\n",
      "Validation Loss: 0.1854, Validation Accuracy: 0.9501\n",
      "Epoch [6/50], Loss: 0.0165, Accuracy: 0.9942\n",
      "Validation Loss: 0.1510, Validation Accuracy: 0.9718\n",
      "Saving model: E:\\DeepFake\\DeepFake\\model\\lstm_model_5_0.01650273857114437_0.971830985915493.pth\n",
      "Epoch [7/50], Loss: 0.0223, Accuracy: 0.9917\n",
      "Validation Loss: 0.1383, Validation Accuracy: 0.9603\n",
      "Epoch [8/50], Loss: 0.0133, Accuracy: 0.9953\n",
      "Validation Loss: 0.1246, Validation Accuracy: 0.9667\n",
      "Epoch [9/50], Loss: 0.0105, Accuracy: 0.9956\n",
      "Validation Loss: 0.1688, Validation Accuracy: 0.9616\n",
      "Epoch [10/50], Loss: 0.0151, Accuracy: 0.9944\n",
      "Validation Loss: 0.1472, Validation Accuracy: 0.9552\n",
      "Epoch [11/50], Loss: 0.0134, Accuracy: 0.9954\n",
      "Validation Loss: 0.1758, Validation Accuracy: 0.9590\n",
      "Early stopping at epoch 11 due to lack of improvement in accuracy.\n"
     ]
    }
   ],
   "source": [
    "for epoch in range(num_epochs):\n",
    "    model.train()\n",
    "    tt_loss = 0.0\n",
    "    correct_predictions = 0\n",
    "    tt_samples = 0\n",
    "\n",
    "    for inputs, labels in train_loader:\n",
    "        inputs, labels = inputs.to(device), labels.to(device)\n",
    "\n",
    "        _, predictions = model(inputs)\n",
    "        loss = criterion(predictions, labels)\n",
    "\n",
    "        optimizer.zero_grad()\n",
    "        loss.backward()\n",
    "        optimizer.step()\n",
    "\n",
    "        _, predicted = torch.max(predictions, 1)\n",
    "        correct_predictions += (predicted == labels).sum().item()\n",
    "        tt_samples += labels.size(0)\n",
    "        tt_loss += loss.item()\n",
    "\n",
    "    avg_loss = tt_loss / len(train_loader)\n",
    "    acc = correct_predictions / tt_samples\n",
    "\n",
    "    print(f'Epoch [{epoch+1}/{num_epochs}], Loss: {avg_loss:.4f}, Accuracy: {acc:.4f}')\n",
    "\n",
    "    # Validation loop\n",
    "    model.eval()\n",
    "    val_loss = 0.0\n",
    "    val_correct_predictions = 0\n",
    "    val_samples = 0\n",
    "\n",
    "    with torch.no_grad():\n",
    "        for val_inputs, val_labels in test_loader:\n",
    "            val_inputs, val_labels = val_inputs.to(device), val_labels.to(device)\n",
    "\n",
    "            _, val_predictions = model(val_inputs)\n",
    "            val_loss += criterion(val_predictions, val_labels).item()\n",
    "\n",
    "            _, val_predicted = torch.max(val_predictions, 1)\n",
    "            val_correct_predictions += (val_predicted == val_labels).sum().item()\n",
    "            val_samples += val_labels.size(0)\n",
    "\n",
    "    avg_val_loss = val_loss / len(test_loader)\n",
    "    val_acc = val_correct_predictions / val_samples\n",
    "\n",
    "    print(f'Validation Loss: {avg_val_loss:.4f}, Validation Accuracy: {val_acc:.4f}')\n",
    "\n",
    "    # Check for improvement in accuracy\n",
    "    if val_acc > best_val_acc:\n",
    "        best_val_acc = val_acc\n",
    "        early_stopping_counter = 0\n",
    "        # Save the model\n",
    "        model_path = f'E:\\DeepFake\\DeepFake\\model\\lstm_model_{epoch}_{avg_loss}_{val_acc}.pth'\n",
    "        print('Saving model:', model_path)\n",
    "        torch.save(model.state_dict(), model_path)\n",
    "    else:\n",
    "        early_stopping_counter += 1\n",
    "\n",
    "    # Check for early stopping\n",
    "    if early_stopping_counter >= patience:\n",
    "        print(f'Early stopping at epoch {epoch+1} due to lack of improvement in accuracy.')\n",
    "        break"
   ]
  },
  {
   "cell_type": "code",
   "execution_count": 49,
   "id": "cf21bf8b",
   "metadata": {},
   "outputs": [
    {
     "name": "stdout",
     "output_type": "stream",
     "text": [
      "Saving model: E:\\DeepFake\\DeepFake\\model\\resnext_model_{epoch}_{avg_loss}_{val_acc}.pth\n"
     ]
    }
   ],
   "source": [
    "model_path = r'E:\\DeepFake\\DeepFake\\model\\resnext_model_{epoch}_{avg_loss}_{val_acc}.pth'\n",
    "print('Saving model:', model_path)\n",
    "torch.save(model.state_dict(), model_path)"
   ]
  },
  {
   "cell_type": "code",
   "execution_count": null,
   "id": "02396aab",
   "metadata": {},
   "outputs": [],
   "source": []
  }
 ],
 "metadata": {
  "kernelspec": {
   "display_name": "Python 3 (ipykernel)",
   "language": "python",
   "name": "python3"
  },
  "language_info": {
   "codemirror_mode": {
    "name": "ipython",
    "version": 3
   },
   "file_extension": ".py",
   "mimetype": "text/x-python",
   "name": "python",
   "nbconvert_exporter": "python",
   "pygments_lexer": "ipython3",
   "version": "3.11.3"
  }
 },
 "nbformat": 4,
 "nbformat_minor": 5
}
