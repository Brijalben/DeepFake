{
 "cells": [
  {
   "cell_type": "code",
   "execution_count": 1,
   "id": "f244e963",
   "metadata": {},
   "outputs": [],
   "source": [
    "import torch\n",
    "import torch.nn as nn\n",
    "import torch.optim as optim\n",
    "from torch.utils.data import DataLoader, random_split\n",
    "from torchvision.transforms import ToTensor"
   ]
  },
  {
   "cell_type": "code",
   "execution_count": 2,
   "id": "c2684c39",
   "metadata": {},
   "outputs": [],
   "source": [
    "import os\n",
    "import pandas as pd"
   ]
  },
  {
   "cell_type": "code",
   "execution_count": 3,
   "id": "0d5a85ce",
   "metadata": {},
   "outputs": [],
   "source": [
    "import torchvision.models as models"
   ]
  },
  {
   "cell_type": "code",
   "execution_count": 4,
   "id": "02f5bb2a",
   "metadata": {},
   "outputs": [],
   "source": [
    "import torchvision.transforms as transforms\n",
    "from torch.utils.data import DataLoader, Dataset\n",
    "from PIL import Image"
   ]
  },
  {
   "cell_type": "code",
   "execution_count": 5,
   "id": "76295154",
   "metadata": {},
   "outputs": [],
   "source": [
    "import matplotlib.pyplot as plt\n",
    "from sklearn.metrics import roc_curve, auc"
   ]
  },
  {
   "cell_type": "code",
   "execution_count": 6,
   "id": "c516b469",
   "metadata": {},
   "outputs": [],
   "source": [
    "from sklearn.metrics import accuracy_score, precision_score, recall_score, f1_score, roc_auc_score"
   ]
  },
  {
   "cell_type": "code",
   "execution_count": 9,
   "id": "9c36330d",
   "metadata": {},
   "outputs": [],
   "source": [
    "from sklearn.model_selection import train_test_split"
   ]
  },
  {
   "cell_type": "code",
   "execution_count": 12,
   "id": "00890db0",
   "metadata": {},
   "outputs": [],
   "source": [
    "# Define the folder containing your images\n",
    "fakeImage_folder = r'E:\\DeepFake\\DeepFake\\Dataset\\ThisPersonDoesNotExist'\n",
    "realImage_folder = r'E:\\DeepFake\\DeepFake\\Dataset\\Real'\n",
    "\n",
    "# List all image files in the folder\n",
    "fakeImage_files = [os.path.join(fakeImage_folder, file) for file in os.listdir(fakeImage_folder) if file.lower().endswith(('.png', '.jpg', '.jpeg'))]\n",
    "realImage_files = [os.path.join(realImage_folder, file) for file in os.listdir(realImage_folder) if file.lower().endswith(('.png', '.jpg', '.jpeg'))]\n",
    "\n",
    "fake_df = pd.DataFrame(columns=['Image_Path', 'Fake'])\n",
    "\n",
    "fake_df['Image_Path'] = fakeImage_files\n",
    "fake_df['Fake'] = 1\n",
    "\n",
    "real_df = pd.DataFrame(columns=['Image_Path', 'Fake'])\n",
    "real_df['Image_Path'] = realImage_files\n",
    "real_df['Fake'] = 0\n",
    "\n",
    "result_df = pd.concat([fake_df, real_df[:100]])"
   ]
  },
  {
   "cell_type": "code",
   "execution_count": 13,
   "id": "8b9ab7c1",
   "metadata": {},
   "outputs": [
    {
     "data": {
      "text/html": [
       "<div>\n",
       "<style scoped>\n",
       "    .dataframe tbody tr th:only-of-type {\n",
       "        vertical-align: middle;\n",
       "    }\n",
       "\n",
       "    .dataframe tbody tr th {\n",
       "        vertical-align: top;\n",
       "    }\n",
       "\n",
       "    .dataframe thead th {\n",
       "        text-align: right;\n",
       "    }\n",
       "</style>\n",
       "<table border=\"1\" class=\"dataframe\">\n",
       "  <thead>\n",
       "    <tr style=\"text-align: right;\">\n",
       "      <th></th>\n",
       "      <th>Image_Path</th>\n",
       "      <th>Fake</th>\n",
       "    </tr>\n",
       "  </thead>\n",
       "  <tbody>\n",
       "    <tr>\n",
       "      <th>0</th>\n",
       "      <td>E:\\DeepFake\\DeepFake\\Dataset\\ThisPersonDoesNot...</td>\n",
       "      <td>1</td>\n",
       "    </tr>\n",
       "    <tr>\n",
       "      <th>1</th>\n",
       "      <td>E:\\DeepFake\\DeepFake\\Dataset\\ThisPersonDoesNot...</td>\n",
       "      <td>1</td>\n",
       "    </tr>\n",
       "    <tr>\n",
       "      <th>2</th>\n",
       "      <td>E:\\DeepFake\\DeepFake\\Dataset\\ThisPersonDoesNot...</td>\n",
       "      <td>1</td>\n",
       "    </tr>\n",
       "    <tr>\n",
       "      <th>3</th>\n",
       "      <td>E:\\DeepFake\\DeepFake\\Dataset\\ThisPersonDoesNot...</td>\n",
       "      <td>1</td>\n",
       "    </tr>\n",
       "    <tr>\n",
       "      <th>4</th>\n",
       "      <td>E:\\DeepFake\\DeepFake\\Dataset\\ThisPersonDoesNot...</td>\n",
       "      <td>1</td>\n",
       "    </tr>\n",
       "    <tr>\n",
       "      <th>...</th>\n",
       "      <td>...</td>\n",
       "      <td>...</td>\n",
       "    </tr>\n",
       "    <tr>\n",
       "      <th>95</th>\n",
       "      <td>E:\\DeepFake\\DeepFake\\Dataset\\Real\\00095.png</td>\n",
       "      <td>0</td>\n",
       "    </tr>\n",
       "    <tr>\n",
       "      <th>96</th>\n",
       "      <td>E:\\DeepFake\\DeepFake\\Dataset\\Real\\00096.png</td>\n",
       "      <td>0</td>\n",
       "    </tr>\n",
       "    <tr>\n",
       "      <th>97</th>\n",
       "      <td>E:\\DeepFake\\DeepFake\\Dataset\\Real\\00097.png</td>\n",
       "      <td>0</td>\n",
       "    </tr>\n",
       "    <tr>\n",
       "      <th>98</th>\n",
       "      <td>E:\\DeepFake\\DeepFake\\Dataset\\Real\\00098.png</td>\n",
       "      <td>0</td>\n",
       "    </tr>\n",
       "    <tr>\n",
       "      <th>99</th>\n",
       "      <td>E:\\DeepFake\\DeepFake\\Dataset\\Real\\00099.png</td>\n",
       "      <td>0</td>\n",
       "    </tr>\n",
       "  </tbody>\n",
       "</table>\n",
       "<p>200 rows × 2 columns</p>\n",
       "</div>"
      ],
      "text/plain": [
       "                                           Image_Path  Fake\n",
       "0   E:\\DeepFake\\DeepFake\\Dataset\\ThisPersonDoesNot...     1\n",
       "1   E:\\DeepFake\\DeepFake\\Dataset\\ThisPersonDoesNot...     1\n",
       "2   E:\\DeepFake\\DeepFake\\Dataset\\ThisPersonDoesNot...     1\n",
       "3   E:\\DeepFake\\DeepFake\\Dataset\\ThisPersonDoesNot...     1\n",
       "4   E:\\DeepFake\\DeepFake\\Dataset\\ThisPersonDoesNot...     1\n",
       "..                                                ...   ...\n",
       "95        E:\\DeepFake\\DeepFake\\Dataset\\Real\\00095.png     0\n",
       "96        E:\\DeepFake\\DeepFake\\Dataset\\Real\\00096.png     0\n",
       "97        E:\\DeepFake\\DeepFake\\Dataset\\Real\\00097.png     0\n",
       "98        E:\\DeepFake\\DeepFake\\Dataset\\Real\\00098.png     0\n",
       "99        E:\\DeepFake\\DeepFake\\Dataset\\Real\\00099.png     0\n",
       "\n",
       "[200 rows x 2 columns]"
      ]
     },
     "execution_count": 13,
     "metadata": {},
     "output_type": "execute_result"
    }
   ],
   "source": [
    "result_df"
   ]
  },
  {
   "cell_type": "code",
   "execution_count": 14,
   "id": "40d4b7df",
   "metadata": {},
   "outputs": [],
   "source": [
    "# Split the data into a training set and a test set (50% each) with class balance\n",
    "X_train, X_test, y_train, y_test = train_test_split(result_df['Image_Path'], result_df['Fake'], test_size=0.9, stratify= result_df['Fake'], random_state=35)"
   ]
  },
  {
   "cell_type": "code",
   "execution_count": 15,
   "id": "e0401d33",
   "metadata": {},
   "outputs": [],
   "source": [
    "class ImageModel(nn.Module):\n",
    "    def __init__(self, num_classes):\n",
    "        super(ImageModel, self).__init__()\n",
    "        model = models.resnext50_32x4d(weights=models.ResNeXt50_32X4D_Weights.DEFAULT)\n",
    "        self.model = nn.Sequential(*list(model.children())[:-2])\n",
    "        self.avgpool = nn.AdaptiveAvgPool2d(1)\n",
    "        self.relu = nn.LeakyReLU()\n",
    "        self.dp = nn.Dropout(0.3)\n",
    "        self.linear1 = nn.Linear(2048, num_classes)\n",
    "\n",
    "    def forward(self, x):\n",
    "        batch_size, c, h, w = x.shape\n",
    "        x = x.view(batch_size, c, h, w)\n",
    "        fmap = self.model(x)\n",
    "        x = self.avgpool(fmap)\n",
    "        x = x.view(batch_size, 2048)\n",
    "        x = self.relu(x)\n",
    "        x = self.dp(x)\n",
    "        x = self.linear1(x)\n",
    "        return fmap, x"
   ]
  },
  {
   "cell_type": "code",
   "execution_count": 18,
   "id": "b4c708f3",
   "metadata": {},
   "outputs": [],
   "source": [
    "device = torch.device('cuda' if torch.cuda.is_available() else 'cpu')"
   ]
  },
  {
   "cell_type": "code",
   "execution_count": 19,
   "id": "95087cce",
   "metadata": {},
   "outputs": [],
   "source": [
    "# Load model\n",
    "model = ImageModel(num_classes=2)\n",
    "model.load_state_dict(torch.load(r'E:\\DeepFake\\DeepFake\\model\\lstm_model7_0.02736789979094257_0.9897857142857143.pth'))\n",
    "model = model.to(device)"
   ]
  },
  {
   "cell_type": "code",
   "execution_count": 20,
   "id": "5ae41c66",
   "metadata": {},
   "outputs": [],
   "source": [
    "num_epochs = 1000\n",
    "batch_size = 16"
   ]
  },
  {
   "cell_type": "code",
   "execution_count": 22,
   "id": "7fab8e6e",
   "metadata": {},
   "outputs": [],
   "source": [
    "class FaceDataset(Dataset):\n",
    "    def __init__(self, images, labels, transform=None):\n",
    "        self.images = images\n",
    "        self.labels = labels\n",
    "        self.transform = transform\n",
    "\n",
    "    def __len__(self):\n",
    "        return len(self.images)\n",
    "\n",
    "    def __getitem__(self, idx):\n",
    "        image = Image.open(self.images[idx])\n",
    "        label = self.labels[idx]\n",
    "        if self.transform:\n",
    "            image = self.transform(image)\n",
    "        return image, label"
   ]
  },
  {
   "cell_type": "code",
   "execution_count": 24,
   "id": "c37db2a4",
   "metadata": {},
   "outputs": [],
   "source": [
    "transform = transforms.Compose([ transforms.Resize((224, 224)),\n",
    "                                transforms.ToTensor(),\n",
    "                                transforms.Normalize(mean=[0.485, 0.456, 0.406], std=[0.229, 0.224, 0.225])])"
   ]
  },
  {
   "cell_type": "code",
   "execution_count": 25,
   "id": "ef86f58e",
   "metadata": {},
   "outputs": [],
   "source": [
    "test_dataset = FaceDataset(X_test.values, y_test.values, transform)\n",
    "test_loader = DataLoader(test_dataset, batch_size=batch_size, shuffle=True)"
   ]
  },
  {
   "cell_type": "code",
   "execution_count": 26,
   "id": "02d6910c",
   "metadata": {},
   "outputs": [],
   "source": [
    "model.eval()\n",
    "allLabels = []\n",
    "allPredictions = []\n",
    "\n",
    "with torch.no_grad():\n",
    "    for inputs, labels in test_loader:\n",
    "        inputs, labels = inputs.to(device), labels.to(device)\n",
    "        _, outputs = model(inputs)\n",
    "\n",
    "        # Assuming outputs[:, 1] is the probability of being in class 1\n",
    "        predictions = torch.argmax(outputs, dim=1).cpu().numpy()\n",
    "\n",
    "        allLabels.extend(labels.cpu().numpy())\n",
    "        allPredictions.extend(predictions)\n",
    "\n",
    "accuracy = accuracy_score(allLabels, allPredictions)\n",
    "precision = precision_score(allLabels, allPredictions)\n",
    "recall = recall_score(allLabels, allPredictions)\n",
    "f1 = f1_score(allLabels, allPredictions)"
   ]
  },
  {
   "cell_type": "code",
   "execution_count": 27,
   "id": "ab16402a",
   "metadata": {},
   "outputs": [
    {
     "name": "stdout",
     "output_type": "stream",
     "text": [
      "Accuracy: 0.6000\n",
      "Precision: 0.8462\n",
      "Recall: 0.2444\n",
      "F1 Score: 0.3793\n",
      "AUC-ROC: 0.6000\n"
     ]
    }
   ],
   "source": [
    "# Assuming outputs[:, 1] is the probability of being in class 1 (for AUC-ROC)\n",
    "auc_roc = roc_auc_score(allLabels, allPredictions)\n",
    "\n",
    "print(f\"Accuracy: {accuracy:.4f}\")\n",
    "print(f\"Precision: {precision:.4f}\")\n",
    "print(f\"Recall: {recall:.4f}\")\n",
    "print(f\"F1 Score: {f1:.4f}\")\n",
    "print(f\"AUC-ROC: {auc_roc:.4f}\")"
   ]
  },
  {
   "cell_type": "code",
   "execution_count": 30,
   "id": "0ab8fac9",
   "metadata": {},
   "outputs": [
    {
     "data": {
      "image/png": "[encoded data removed]",
      "text/plain": [
       "<Figure size 800x600 with 2 Axes>"
      ]
     },
     "metadata": {},
     "output_type": "display_data"
    }
   ],
   "source": [
    "from sklearn.metrics import confusion_matrix\n",
    "import matplotlib.pyplot as plt\n",
    "import seaborn as sns\n",
    "\n",
    "# Create a confusion matrix\n",
    "cm = confusion_matrix(allLabels, allPredictions)\n",
    "\n",
    "# Plot the confusion matrix\n",
    "plt.figure(figsize=(8, 6))\n",
    "sns.heatmap(cm, annot=True, fmt=\"d\", cmap=\"Blues\")\n",
    "plt.title('Confusion Matrix')\n",
    "plt.xlabel('Predicted Label')\n",
    "plt.ylabel('True Label')\n",
    "plt.show()"
   ]
  },
  {
   "cell_type": "code",
   "execution_count": 55,
   "id": "c3c25c2a",
   "metadata": {},
   "outputs": [],
   "source": [
    "# Load model\n",
    "model = ImageModel(num_classes=2)\n",
    "model.load_state_dict(torch.load(r'E:\\DeepFake\\DeepFake\\model\\lstm_model7_0.02736789979094257_0.9897857142857143.pth'))\n",
    "model = model.to(device)"
   ]
  },
  {
   "cell_type": "code",
   "execution_count": 56,
   "id": "bd50333f",
   "metadata": {},
   "outputs": [],
   "source": [
    "# Step 3: Define Loss Function and Optimizer\n",
    "criterion = nn.CrossEntropyLoss()\n",
    "optimizer = optim.Adam(model.parameters(), lr=0.001)"
   ]
  },
  {
   "cell_type": "code",
   "execution_count": 57,
   "id": "70d62c1c",
   "metadata": {},
   "outputs": [],
   "source": [
    "# Split the data into a training set and a test set (50% each) with class balance\n",
    "X_train, X_test, y_train, y_test = train_test_split(result_df['Image_Path'], result_df['Fake'], test_size=0.1, stratify= result_df['Fake'], random_state=35)"
   ]
  },
  {
   "cell_type": "code",
   "execution_count": 58,
   "id": "8ebc7211",
   "metadata": {},
   "outputs": [],
   "source": [
    "train_dataset = FaceDataset(X_train.values, y_train.values, transform)\n",
    "train_loader = DataLoader(train_dataset, batch_size=batch_size, shuffle=True)\n",
    "test_dataset = FaceDataset(X_test.values, y_test.values, transform)\n",
    "test_loader = DataLoader(test_dataset, batch_size=batch_size, shuffle=True)"
   ]
  },
  {
   "cell_type": "code",
   "execution_count": 59,
   "id": "a56bb1a1",
   "metadata": {},
   "outputs": [],
   "source": [
    "best_val_acc = 0.0\n",
    "patience = 3  # Number of epochs to wait for improvement\n",
    "early_stopping_counter = 0\n",
    "num_epochs = 50"
   ]
  },
  {
   "cell_type": "code",
   "execution_count": 60,
   "id": "f1658abd",
   "metadata": {},
   "outputs": [
    {
     "name": "stdout",
     "output_type": "stream",
     "text": [
      "Epoch [1/50], Loss: 1.1329, Accuracy: 0.8000\n",
      "Validation Loss: 2.0844, Validation Accuracy: 0.7000\n",
      "Saving model: E:\\DeepFake\\DeepFake\\model\\lstm_model_0_1.1329352245666087_0.7.pth\n",
      "Epoch [2/50], Loss: 0.1389, Accuracy: 0.9556\n",
      "Validation Loss: 0.9744, Validation Accuracy: 0.7500\n",
      "Saving model: E:\\DeepFake\\DeepFake\\model\\lstm_model_1_0.13894199230708182_0.75.pth\n",
      "Epoch [3/50], Loss: 0.0877, Accuracy: 0.9722\n",
      "Validation Loss: 1.2274, Validation Accuracy: 0.7500\n",
      "Epoch [4/50], Loss: 0.0127, Accuracy: 0.9944\n",
      "Validation Loss: 0.6677, Validation Accuracy: 0.8000\n",
      "Saving model: E:\\DeepFake\\DeepFake\\model\\lstm_model_3_0.012725449865683913_0.8.pth\n",
      "Epoch [5/50], Loss: 0.0087, Accuracy: 1.0000\n",
      "Validation Loss: 0.8652, Validation Accuracy: 0.8000\n",
      "Epoch [6/50], Loss: 0.0518, Accuracy: 0.9944\n",
      "Validation Loss: 0.4869, Validation Accuracy: 0.8000\n",
      "Epoch [7/50], Loss: 0.0227, Accuracy: 0.9944\n",
      "Validation Loss: 1.4253, Validation Accuracy: 0.6500\n",
      "Early stopping at epoch 7 due to lack of improvement in accuracy.\n"
     ]
    }
   ],
   "source": [
    "for epoch in range(num_epochs):\n",
    "    model.train()\n",
    "    tt_loss = 0.0\n",
    "    correct_predictions = 0\n",
    "    tt_samples = 0\n",
    "\n",
    "    for inputs, labels in train_loader:\n",
    "        inputs, labels = inputs.to(device), labels.to(device)\n",
    "\n",
    "        _, predictions = model(inputs)\n",
    "        loss = criterion(predictions, labels)\n",
    "\n",
    "        optimizer.zero_grad()\n",
    "        loss.backward()\n",
    "        optimizer.step()\n",
    "\n",
    "        _, predicted = torch.max(predictions, 1)\n",
    "        correct_predictions += (predicted == labels).sum().item()\n",
    "        tt_samples += labels.size(0)\n",
    "        tt_loss += loss.item()\n",
    "\n",
    "    avg_loss = tt_loss / len(train_loader)\n",
    "    acc = correct_predictions / tt_samples\n",
    "\n",
    "    print(f'Epoch [{epoch+1}/{num_epochs}], Loss: {avg_loss:.4f}, Accuracy: {acc:.4f}')\n",
    "\n",
    "    # Validation loop\n",
    "    model.eval()\n",
    "    val_loss = 0.0\n",
    "    val_correct_predictions = 0\n",
    "    val_samples = 0\n",
    "\n",
    "    with torch.no_grad():\n",
    "        for val_inputs, val_labels in test_loader:\n",
    "            val_inputs, val_labels = val_inputs.to(device), val_labels.to(device)\n",
    "\n",
    "            _, val_predictions = model(val_inputs)\n",
    "            val_loss += criterion(val_predictions, val_labels).item()\n",
    "\n",
    "            _, val_predicted = torch.max(val_predictions, 1)\n",
    "            val_correct_predictions += (val_predicted == val_labels).sum().item()\n",
    "            val_samples += val_labels.size(0)\n",
    "\n",
    "    avg_val_loss = val_loss / len(test_loader)\n",
    "    val_acc = val_correct_predictions / val_samples\n",
    "\n",
    "    print(f'Validation Loss: {avg_val_loss:.4f}, Validation Accuracy: {val_acc:.4f}')\n",
    "\n",
    "    # Check for improvement in accuracy\n",
    "    if val_acc > best_val_acc:\n",
    "        best_val_acc = val_acc\n",
    "        early_stopping_counter = 0\n",
    "        # Save the model\n",
    "        model_path = f'E:\\DeepFake\\DeepFake\\model\\lstm_model_{epoch}_{avg_loss}_{val_acc}.pth'\n",
    "        print('Saving model:', model_path)\n",
    "        torch.save(model.state_dict(), model_path)\n",
    "    else:\n",
    "        early_stopping_counter += 1\n",
    "\n",
    "    # Check for early stopping\n",
    "    if early_stopping_counter >= patience:\n",
    "        print(f'Early stopping at epoch {epoch+1} due to lack of improvement in accuracy.')\n",
    "        break"
   ]
  },
  {
   "cell_type": "code",
   "execution_count": null,
   "id": "e7ee5f4c",
   "metadata": {},
   "outputs": [],
   "source": []
  }
 ],
 "metadata": {
  "kernelspec": {
   "display_name": "Python 3 (ipykernel)",
   "language": "python",
   "name": "python3"
  },
  "language_info": {
   "codemirror_mode": {
    "name": "ipython",
    "version": 3
   },
   "file_extension": ".py",
   "mimetype": "text/x-python",
   "name": "python",
   "nbconvert_exporter": "python",
   "pygments_lexer": "ipython3",
   "version": "3.11.3"
  }
 },
 "nbformat": 4,
 "nbformat_minor": 5
}
